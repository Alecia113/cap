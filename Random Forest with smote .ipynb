{
 "cells": [
  {
   "cell_type": "code",
   "execution_count": 79,
   "id": "7b18fa82",
   "metadata": {},
   "outputs": [],
   "source": [
    "import pandas as pd \n",
    "import numpy as np\n",
    "#from numpy.core.umath_tests import inner1d\n",
    "import matplotlib.pyplot as plt\n",
    "import seaborn as sns\n",
    "\n",
    "from sklearn.preprocessing import LabelEncoder, StandardScaler, OneHotEncoder\n",
    "\n",
    "from sklearn.feature_selection import SelectKBest, f_classif\n",
    "\n",
    "from sklearn.model_selection import train_test_split, cross_val_score,  RepeatedStratifiedKFold,RandomizedSearchCV, GridSearchCV\n",
    "from sklearn.metrics import accuracy_score, f1_score,classification_report,precision_score,recall_score\n",
    "from sklearn.metrics import classification_report, roc_curve, confusion_matrix\n",
    "from collections import Counter\n",
    "\n",
    "# modelos\n",
    "from sklearn.ensemble import RandomForestClassifier, AdaBoostClassifier, GradientBoostingClassifier\n",
    "from sklearn.ensemble import  ExtraTreesClassifier,VotingClassifier\n",
    "from sklearn.neighbors import KNeighborsClassifier\n",
    "from sklearn.linear_model import LogisticRegression\n",
    "from sklearn.svm import SVC\n",
    "from imblearn.over_sampling import SMOTE\n",
    "from imblearn.under_sampling import RandomUnderSampler\n",
    "from imblearn.pipeline import Pipeline\n",
    "\n",
    "import sys"
   ]
  },
  {
   "cell_type": "code",
   "execution_count": 80,
   "id": "972e0dc9",
   "metadata": {},
   "outputs": [],
   "source": [
    "data = pd.read_csv('healthcare-dataset-stroke-data.csv')"
   ]
  },
  {
   "cell_type": "code",
   "execution_count": 81,
   "id": "b8466681",
   "metadata": {},
   "outputs": [
    {
     "data": {
      "text/html": [
       "<div>\n",
       "<style scoped>\n",
       "    .dataframe tbody tr th:only-of-type {\n",
       "        vertical-align: middle;\n",
       "    }\n",
       "\n",
       "    .dataframe tbody tr th {\n",
       "        vertical-align: top;\n",
       "    }\n",
       "\n",
       "    .dataframe thead th {\n",
       "        text-align: right;\n",
       "    }\n",
       "</style>\n",
       "<table border=\"1\" class=\"dataframe\">\n",
       "  <thead>\n",
       "    <tr style=\"text-align: right;\">\n",
       "      <th></th>\n",
       "      <th>id</th>\n",
       "      <th>gender</th>\n",
       "      <th>age</th>\n",
       "      <th>hypertension</th>\n",
       "      <th>heart_disease</th>\n",
       "      <th>ever_married</th>\n",
       "      <th>work_type</th>\n",
       "      <th>Residence_type</th>\n",
       "      <th>avg_glucose_level</th>\n",
       "      <th>bmi</th>\n",
       "      <th>smoking_status</th>\n",
       "      <th>stroke</th>\n",
       "    </tr>\n",
       "  </thead>\n",
       "  <tbody>\n",
       "    <tr>\n",
       "      <th>0</th>\n",
       "      <td>9046</td>\n",
       "      <td>Male</td>\n",
       "      <td>67.0</td>\n",
       "      <td>0</td>\n",
       "      <td>1</td>\n",
       "      <td>Yes</td>\n",
       "      <td>Private</td>\n",
       "      <td>Urban</td>\n",
       "      <td>228.69</td>\n",
       "      <td>36.6</td>\n",
       "      <td>formerly smoked</td>\n",
       "      <td>1</td>\n",
       "    </tr>\n",
       "    <tr>\n",
       "      <th>1</th>\n",
       "      <td>51676</td>\n",
       "      <td>Female</td>\n",
       "      <td>61.0</td>\n",
       "      <td>0</td>\n",
       "      <td>0</td>\n",
       "      <td>Yes</td>\n",
       "      <td>Self-employed</td>\n",
       "      <td>Rural</td>\n",
       "      <td>202.21</td>\n",
       "      <td>NaN</td>\n",
       "      <td>never smoked</td>\n",
       "      <td>1</td>\n",
       "    </tr>\n",
       "    <tr>\n",
       "      <th>2</th>\n",
       "      <td>31112</td>\n",
       "      <td>Male</td>\n",
       "      <td>80.0</td>\n",
       "      <td>0</td>\n",
       "      <td>1</td>\n",
       "      <td>Yes</td>\n",
       "      <td>Private</td>\n",
       "      <td>Rural</td>\n",
       "      <td>105.92</td>\n",
       "      <td>32.5</td>\n",
       "      <td>never smoked</td>\n",
       "      <td>1</td>\n",
       "    </tr>\n",
       "    <tr>\n",
       "      <th>3</th>\n",
       "      <td>60182</td>\n",
       "      <td>Female</td>\n",
       "      <td>49.0</td>\n",
       "      <td>0</td>\n",
       "      <td>0</td>\n",
       "      <td>Yes</td>\n",
       "      <td>Private</td>\n",
       "      <td>Urban</td>\n",
       "      <td>171.23</td>\n",
       "      <td>34.4</td>\n",
       "      <td>smokes</td>\n",
       "      <td>1</td>\n",
       "    </tr>\n",
       "    <tr>\n",
       "      <th>4</th>\n",
       "      <td>1665</td>\n",
       "      <td>Female</td>\n",
       "      <td>79.0</td>\n",
       "      <td>1</td>\n",
       "      <td>0</td>\n",
       "      <td>Yes</td>\n",
       "      <td>Self-employed</td>\n",
       "      <td>Rural</td>\n",
       "      <td>174.12</td>\n",
       "      <td>24.0</td>\n",
       "      <td>never smoked</td>\n",
       "      <td>1</td>\n",
       "    </tr>\n",
       "  </tbody>\n",
       "</table>\n",
       "</div>"
      ],
      "text/plain": [
       "      id  gender   age  hypertension  heart_disease ever_married  \\\n",
       "0   9046    Male  67.0             0              1          Yes   \n",
       "1  51676  Female  61.0             0              0          Yes   \n",
       "2  31112    Male  80.0             0              1          Yes   \n",
       "3  60182  Female  49.0             0              0          Yes   \n",
       "4   1665  Female  79.0             1              0          Yes   \n",
       "\n",
       "       work_type Residence_type  avg_glucose_level   bmi   smoking_status  \\\n",
       "0        Private          Urban             228.69  36.6  formerly smoked   \n",
       "1  Self-employed          Rural             202.21   NaN     never smoked   \n",
       "2        Private          Rural             105.92  32.5     never smoked   \n",
       "3        Private          Urban             171.23  34.4           smokes   \n",
       "4  Self-employed          Rural             174.12  24.0     never smoked   \n",
       "\n",
       "   stroke  \n",
       "0       1  \n",
       "1       1  \n",
       "2       1  \n",
       "3       1  \n",
       "4       1  "
      ]
     },
     "execution_count": 81,
     "metadata": {},
     "output_type": "execute_result"
    }
   ],
   "source": [
    "data.head(5)"
   ]
  },
  {
   "cell_type": "code",
   "execution_count": 82,
   "id": "763e0d34",
   "metadata": {},
   "outputs": [],
   "source": [
    "# data1 : without id\n",
    "data = data.drop(['id'], axis=1)\n"
   ]
  },
  {
   "cell_type": "code",
   "execution_count": null,
   "id": "8cbbbd2b",
   "metadata": {},
   "outputs": [],
   "source": [
    "# data.isnull().sum()"
   ]
  },
  {
   "cell_type": "code",
   "execution_count": null,
   "id": "cdc421b1",
   "metadata": {},
   "outputs": [],
   "source": [
    "# data.work_type.value_counts()"
   ]
  },
  {
   "cell_type": "code",
   "execution_count": 86,
   "id": "15790fee",
   "metadata": {},
   "outputs": [
    {
     "data": {
      "text/plain": [
       "age_mean\n",
       "1    20.787661\n",
       "2    28.601332\n",
       "3    31.425088\n",
       "4    31.580618\n",
       "5    29.415118\n",
       "Name: bmi, dtype: float64"
      ]
     },
     "execution_count": 86,
     "metadata": {},
     "output_type": "execute_result"
    }
   ],
   "source": [
    "label = [1,2,3,4,5]\n",
    "data[\"age_mean\"] = pd.cut(data[\"age\"], 5, labels = label)\n",
    "data[\"age_mean\"].value_counts()\n",
    "bmi_group = data.groupby(\"age_mean\")[\"bmi\"].mean() #将年龄阶段分为五组，分别计算平均的bmi\n",
    "bmi_group"
   ]
  },
  {
   "cell_type": "code",
   "execution_count": 87,
   "id": "a0cb7a61",
   "metadata": {},
   "outputs": [],
   "source": [
    "def bmi_val(cols): #给 bmi 按年龄分配平均值\n",
    "    bmi = cols[0]\n",
    "    age_mean = cols[1]\n",
    "    \n",
    "    if pd.isnull(bmi):\n",
    "        if age_mean == 1:\n",
    "            return 20.7\n",
    "        elif age_mean == 2:\n",
    "            return 28.6\n",
    "        elif age_mean == 3:\n",
    "            return 31.4\n",
    "        elif age_mean == 4:\n",
    "            return 31.6\n",
    "        elif age_mean == 5:\n",
    "            return 29.4\n",
    "    else:\n",
    "        return bmi"
   ]
  },
  {
   "cell_type": "code",
   "execution_count": 88,
   "id": "e98e7ad4",
   "metadata": {},
   "outputs": [],
   "source": [
    "data[\"bmi\"] = data[[\"bmi\",\"age_mean\"]].apply(bmi_val, axis=1)"
   ]
  },
  {
   "cell_type": "code",
   "execution_count": 89,
   "id": "b3ea9f11",
   "metadata": {},
   "outputs": [
    {
     "data": {
      "text/plain": [
       "gender               0\n",
       "age                  0\n",
       "hypertension         0\n",
       "heart_disease        0\n",
       "ever_married         0\n",
       "work_type            0\n",
       "Residence_type       0\n",
       "avg_glucose_level    0\n",
       "bmi                  0\n",
       "smoking_status       0\n",
       "stroke               0\n",
       "age_mean             0\n",
       "dtype: int64"
      ]
     },
     "execution_count": 89,
     "metadata": {},
     "output_type": "execute_result"
    }
   ],
   "source": [
    "data.isnull().sum() "
   ]
  },
  {
   "cell_type": "code",
   "execution_count": 90,
   "id": "9af5b042",
   "metadata": {},
   "outputs": [],
   "source": [
    "data.gender = data.gender.apply(\n",
    "    lambda x: 0 \n",
    "    if ((x == 'Female') or (x == 'Other')) \n",
    "    else 1)\n",
    "\n",
    "#将other 改成 Female"
   ]
  },
  {
   "cell_type": "code",
   "execution_count": 91,
   "id": "343141cc",
   "metadata": {},
   "outputs": [
    {
     "data": {
      "text/plain": [
       "0    2995\n",
       "1    2115\n",
       "Name: gender, dtype: int64"
      ]
     },
     "execution_count": 91,
     "metadata": {},
     "output_type": "execute_result"
    }
   ],
   "source": [
    "data.gender.value_counts()"
   ]
  },
  {
   "cell_type": "code",
   "execution_count": 93,
   "id": "6f4e7d5a",
   "metadata": {},
   "outputs": [
    {
     "data": {
      "text/plain": [
       "0       67\n",
       "1       61\n",
       "2       80\n",
       "3       49\n",
       "4       79\n",
       "        ..\n",
       "5105    80\n",
       "5106    81\n",
       "5107    35\n",
       "5108    51\n",
       "5109    44\n",
       "Name: age, Length: 5110, dtype: int64"
      ]
     },
     "execution_count": 93,
     "metadata": {},
     "output_type": "execute_result"
    }
   ],
   "source": [
    "data['age'] = data['age'].apply(lambda x: round(x))\n",
    "data['age']"
   ]
  },
  {
   "cell_type": "code",
   "execution_count": 95,
   "id": "2844d87a",
   "metadata": {},
   "outputs": [
    {
     "data": {
      "text/plain": [
       "(5110, 9)"
      ]
     },
     "execution_count": 95,
     "metadata": {},
     "output_type": "execute_result"
    }
   ],
   "source": [
    "ohe = OneHotEncoder(drop = 'first', sparse=False, handle_unknown = 'error')\n",
    "data_t = pd.DataFrame(ohe.fit_transform(data.select_dtypes('object')))\n",
    "\n",
    "data_t.columns = ohe.get_feature_names()\n",
    "data_t.head(2)\n",
    "data_t.shape"
   ]
  },
  {
   "cell_type": "code",
   "execution_count": 97,
   "id": "ed90968b",
   "metadata": {},
   "outputs": [
    {
     "data": {
      "text/html": [
       "<div>\n",
       "<style scoped>\n",
       "    .dataframe tbody tr th:only-of-type {\n",
       "        vertical-align: middle;\n",
       "    }\n",
       "\n",
       "    .dataframe tbody tr th {\n",
       "        vertical-align: top;\n",
       "    }\n",
       "\n",
       "    .dataframe thead th {\n",
       "        text-align: right;\n",
       "    }\n",
       "</style>\n",
       "<table border=\"1\" class=\"dataframe\">\n",
       "  <thead>\n",
       "    <tr style=\"text-align: right;\">\n",
       "      <th></th>\n",
       "      <th>x0_Yes</th>\n",
       "      <th>x1_Never_worked</th>\n",
       "      <th>x1_Private</th>\n",
       "      <th>x1_Self-employed</th>\n",
       "      <th>x1_children</th>\n",
       "      <th>x2_Urban</th>\n",
       "      <th>x3_formerly smoked</th>\n",
       "      <th>x3_never smoked</th>\n",
       "      <th>x3_smokes</th>\n",
       "      <th>gender</th>\n",
       "      <th>age</th>\n",
       "      <th>hypertension</th>\n",
       "      <th>heart_disease</th>\n",
       "      <th>avg_glucose_level</th>\n",
       "      <th>bmi</th>\n",
       "      <th>stroke</th>\n",
       "      <th>age_mean</th>\n",
       "    </tr>\n",
       "  </thead>\n",
       "  <tbody>\n",
       "    <tr>\n",
       "      <th>0</th>\n",
       "      <td>1.0</td>\n",
       "      <td>0.0</td>\n",
       "      <td>1.0</td>\n",
       "      <td>0.0</td>\n",
       "      <td>0.0</td>\n",
       "      <td>1.0</td>\n",
       "      <td>1.0</td>\n",
       "      <td>0.0</td>\n",
       "      <td>0.0</td>\n",
       "      <td>1</td>\n",
       "      <td>67</td>\n",
       "      <td>0</td>\n",
       "      <td>1</td>\n",
       "      <td>228.69</td>\n",
       "      <td>36.6</td>\n",
       "      <td>1</td>\n",
       "      <td>5</td>\n",
       "    </tr>\n",
       "    <tr>\n",
       "      <th>1</th>\n",
       "      <td>1.0</td>\n",
       "      <td>0.0</td>\n",
       "      <td>0.0</td>\n",
       "      <td>1.0</td>\n",
       "      <td>0.0</td>\n",
       "      <td>0.0</td>\n",
       "      <td>0.0</td>\n",
       "      <td>1.0</td>\n",
       "      <td>0.0</td>\n",
       "      <td>0</td>\n",
       "      <td>61</td>\n",
       "      <td>0</td>\n",
       "      <td>0</td>\n",
       "      <td>202.21</td>\n",
       "      <td>31.6</td>\n",
       "      <td>1</td>\n",
       "      <td>4</td>\n",
       "    </tr>\n",
       "    <tr>\n",
       "      <th>2</th>\n",
       "      <td>1.0</td>\n",
       "      <td>0.0</td>\n",
       "      <td>1.0</td>\n",
       "      <td>0.0</td>\n",
       "      <td>0.0</td>\n",
       "      <td>0.0</td>\n",
       "      <td>0.0</td>\n",
       "      <td>1.0</td>\n",
       "      <td>0.0</td>\n",
       "      <td>1</td>\n",
       "      <td>80</td>\n",
       "      <td>0</td>\n",
       "      <td>1</td>\n",
       "      <td>105.92</td>\n",
       "      <td>32.5</td>\n",
       "      <td>1</td>\n",
       "      <td>5</td>\n",
       "    </tr>\n",
       "    <tr>\n",
       "      <th>3</th>\n",
       "      <td>1.0</td>\n",
       "      <td>0.0</td>\n",
       "      <td>1.0</td>\n",
       "      <td>0.0</td>\n",
       "      <td>0.0</td>\n",
       "      <td>1.0</td>\n",
       "      <td>0.0</td>\n",
       "      <td>0.0</td>\n",
       "      <td>1.0</td>\n",
       "      <td>0</td>\n",
       "      <td>49</td>\n",
       "      <td>0</td>\n",
       "      <td>0</td>\n",
       "      <td>171.23</td>\n",
       "      <td>34.4</td>\n",
       "      <td>1</td>\n",
       "      <td>3</td>\n",
       "    </tr>\n",
       "    <tr>\n",
       "      <th>4</th>\n",
       "      <td>1.0</td>\n",
       "      <td>0.0</td>\n",
       "      <td>0.0</td>\n",
       "      <td>1.0</td>\n",
       "      <td>0.0</td>\n",
       "      <td>0.0</td>\n",
       "      <td>0.0</td>\n",
       "      <td>1.0</td>\n",
       "      <td>0.0</td>\n",
       "      <td>0</td>\n",
       "      <td>79</td>\n",
       "      <td>1</td>\n",
       "      <td>0</td>\n",
       "      <td>174.12</td>\n",
       "      <td>24.0</td>\n",
       "      <td>1</td>\n",
       "      <td>5</td>\n",
       "    </tr>\n",
       "  </tbody>\n",
       "</table>\n",
       "</div>"
      ],
      "text/plain": [
       "   x0_Yes  x1_Never_worked  x1_Private  x1_Self-employed  x1_children  \\\n",
       "0     1.0              0.0         1.0               0.0          0.0   \n",
       "1     1.0              0.0         0.0               1.0          0.0   \n",
       "2     1.0              0.0         1.0               0.0          0.0   \n",
       "3     1.0              0.0         1.0               0.0          0.0   \n",
       "4     1.0              0.0         0.0               1.0          0.0   \n",
       "\n",
       "   x2_Urban  x3_formerly smoked  x3_never smoked  x3_smokes  gender  age  \\\n",
       "0       1.0                 1.0              0.0        0.0       1   67   \n",
       "1       0.0                 0.0              1.0        0.0       0   61   \n",
       "2       0.0                 0.0              1.0        0.0       1   80   \n",
       "3       1.0                 0.0              0.0        1.0       0   49   \n",
       "4       0.0                 0.0              1.0        0.0       0   79   \n",
       "\n",
       "   hypertension  heart_disease  avg_glucose_level   bmi  stroke age_mean  \n",
       "0             0              1             228.69  36.6       1        5  \n",
       "1             0              0             202.21  31.6       1        4  \n",
       "2             0              1             105.92  32.5       1        5  \n",
       "3             0              0             171.23  34.4       1        3  \n",
       "4             1              0             174.12  24.0       1        5  "
      ]
     },
     "execution_count": 97,
     "metadata": {},
     "output_type": "execute_result"
    }
   ],
   "source": [
    "data_n = data.drop(data.select_dtypes('object'), axis=1)\n",
    "\n",
    "data = pd.concat([data_t, data_n], axis=1)\n",
    "data.head(5)"
   ]
  },
  {
   "cell_type": "code",
   "execution_count": 98,
   "id": "9bda67e1",
   "metadata": {},
   "outputs": [],
   "source": [
    "k_values = [1, 2, 3, 4, 5, 6, 7]\n",
    "X = data.drop(['stroke'], axis=1)\n",
    "y = data.stroke"
   ]
  },
  {
   "cell_type": "code",
   "execution_count": 99,
   "id": "37457201",
   "metadata": {},
   "outputs": [
    {
     "data": {
      "text/html": [
       "<div>\n",
       "<style scoped>\n",
       "    .dataframe tbody tr th:only-of-type {\n",
       "        vertical-align: middle;\n",
       "    }\n",
       "\n",
       "    .dataframe tbody tr th {\n",
       "        vertical-align: top;\n",
       "    }\n",
       "\n",
       "    .dataframe thead th {\n",
       "        text-align: right;\n",
       "    }\n",
       "</style>\n",
       "<table border=\"1\" class=\"dataframe\">\n",
       "  <thead>\n",
       "    <tr style=\"text-align: right;\">\n",
       "      <th></th>\n",
       "      <th>x0_Yes</th>\n",
       "      <th>x1_Never_worked</th>\n",
       "      <th>x1_Private</th>\n",
       "      <th>x1_Self-employed</th>\n",
       "      <th>x1_children</th>\n",
       "      <th>x2_Urban</th>\n",
       "      <th>x3_formerly smoked</th>\n",
       "      <th>x3_never smoked</th>\n",
       "      <th>x3_smokes</th>\n",
       "      <th>gender</th>\n",
       "      <th>age</th>\n",
       "      <th>hypertension</th>\n",
       "      <th>heart_disease</th>\n",
       "      <th>avg_glucose_level</th>\n",
       "      <th>bmi</th>\n",
       "      <th>age_mean</th>\n",
       "    </tr>\n",
       "  </thead>\n",
       "  <tbody>\n",
       "    <tr>\n",
       "      <th>0</th>\n",
       "      <td>1.0</td>\n",
       "      <td>0.0</td>\n",
       "      <td>1.0</td>\n",
       "      <td>0.0</td>\n",
       "      <td>0.0</td>\n",
       "      <td>1.0</td>\n",
       "      <td>1.0</td>\n",
       "      <td>0.0</td>\n",
       "      <td>0.0</td>\n",
       "      <td>1</td>\n",
       "      <td>67</td>\n",
       "      <td>0</td>\n",
       "      <td>1</td>\n",
       "      <td>228.69</td>\n",
       "      <td>36.6</td>\n",
       "      <td>5</td>\n",
       "    </tr>\n",
       "    <tr>\n",
       "      <th>1</th>\n",
       "      <td>1.0</td>\n",
       "      <td>0.0</td>\n",
       "      <td>0.0</td>\n",
       "      <td>1.0</td>\n",
       "      <td>0.0</td>\n",
       "      <td>0.0</td>\n",
       "      <td>0.0</td>\n",
       "      <td>1.0</td>\n",
       "      <td>0.0</td>\n",
       "      <td>0</td>\n",
       "      <td>61</td>\n",
       "      <td>0</td>\n",
       "      <td>0</td>\n",
       "      <td>202.21</td>\n",
       "      <td>31.6</td>\n",
       "      <td>4</td>\n",
       "    </tr>\n",
       "    <tr>\n",
       "      <th>2</th>\n",
       "      <td>1.0</td>\n",
       "      <td>0.0</td>\n",
       "      <td>1.0</td>\n",
       "      <td>0.0</td>\n",
       "      <td>0.0</td>\n",
       "      <td>0.0</td>\n",
       "      <td>0.0</td>\n",
       "      <td>1.0</td>\n",
       "      <td>0.0</td>\n",
       "      <td>1</td>\n",
       "      <td>80</td>\n",
       "      <td>0</td>\n",
       "      <td>1</td>\n",
       "      <td>105.92</td>\n",
       "      <td>32.5</td>\n",
       "      <td>5</td>\n",
       "    </tr>\n",
       "    <tr>\n",
       "      <th>3</th>\n",
       "      <td>1.0</td>\n",
       "      <td>0.0</td>\n",
       "      <td>1.0</td>\n",
       "      <td>0.0</td>\n",
       "      <td>0.0</td>\n",
       "      <td>1.0</td>\n",
       "      <td>0.0</td>\n",
       "      <td>0.0</td>\n",
       "      <td>1.0</td>\n",
       "      <td>0</td>\n",
       "      <td>49</td>\n",
       "      <td>0</td>\n",
       "      <td>0</td>\n",
       "      <td>171.23</td>\n",
       "      <td>34.4</td>\n",
       "      <td>3</td>\n",
       "    </tr>\n",
       "    <tr>\n",
       "      <th>4</th>\n",
       "      <td>1.0</td>\n",
       "      <td>0.0</td>\n",
       "      <td>0.0</td>\n",
       "      <td>1.0</td>\n",
       "      <td>0.0</td>\n",
       "      <td>0.0</td>\n",
       "      <td>0.0</td>\n",
       "      <td>1.0</td>\n",
       "      <td>0.0</td>\n",
       "      <td>0</td>\n",
       "      <td>79</td>\n",
       "      <td>1</td>\n",
       "      <td>0</td>\n",
       "      <td>174.12</td>\n",
       "      <td>24.0</td>\n",
       "      <td>5</td>\n",
       "    </tr>\n",
       "  </tbody>\n",
       "</table>\n",
       "</div>"
      ],
      "text/plain": [
       "   x0_Yes  x1_Never_worked  x1_Private  x1_Self-employed  x1_children  \\\n",
       "0     1.0              0.0         1.0               0.0          0.0   \n",
       "1     1.0              0.0         0.0               1.0          0.0   \n",
       "2     1.0              0.0         1.0               0.0          0.0   \n",
       "3     1.0              0.0         1.0               0.0          0.0   \n",
       "4     1.0              0.0         0.0               1.0          0.0   \n",
       "\n",
       "   x2_Urban  x3_formerly smoked  x3_never smoked  x3_smokes  gender  age  \\\n",
       "0       1.0                 1.0              0.0        0.0       1   67   \n",
       "1       0.0                 0.0              1.0        0.0       0   61   \n",
       "2       0.0                 0.0              1.0        0.0       1   80   \n",
       "3       1.0                 0.0              0.0        1.0       0   49   \n",
       "4       0.0                 0.0              1.0        0.0       0   79   \n",
       "\n",
       "   hypertension  heart_disease  avg_glucose_level   bmi age_mean  \n",
       "0             0              1             228.69  36.6        5  \n",
       "1             0              0             202.21  31.6        4  \n",
       "2             0              1             105.92  32.5        5  \n",
       "3             0              0             171.23  34.4        3  \n",
       "4             1              0             174.12  24.0        5  "
      ]
     },
     "execution_count": 99,
     "metadata": {},
     "output_type": "execute_result"
    }
   ],
   "source": [
    "# print(X.head(5))\n",
    "# print(y.head(2))"
   ]
  },
  {
   "cell_type": "code",
   "execution_count": 101,
   "id": "cd5eac37",
   "metadata": {},
   "outputs": [
    {
     "name": "stdout",
     "output_type": "stream",
     "text": [
      "> k=1, Mean ROC AUC: 0.809\n",
      "> k=2, Mean ROC AUC: 0.808\n",
      "> k=3, Mean ROC AUC: 0.810\n",
      "> k=4, Mean ROC AUC: 0.809\n",
      "> k=5, Mean ROC AUC: 0.802\n",
      "> k=6, Mean ROC AUC: 0.809\n",
      "> k=7, Mean ROC AUC: 0.807\n"
     ]
    }
   ],
   "source": [
    "k_values = [1, 2, 3, 4, 5, 6, 7]\n",
    "X = data.drop(['stroke'], axis=1)\n",
    "y = data.stroke\n",
    "\n",
    "k_scores = []\n",
    "for k in k_values:\n",
    "    # define pipeline\n",
    "    rf = RandomForestClassifier()\n",
    "    over  = SMOTE(sampling_strategy = 0.1, k_neighbors = k)\n",
    "    steps = [('over', over), ('model', rf)]\n",
    "    \n",
    "    pipeline = Pipeline(steps=steps)\n",
    "    \n",
    "    # evaluate pipeline\n",
    "    cv = RepeatedStratifiedKFold(n_splits=10, n_repeats=3, random_state=1)\n",
    "    \n",
    "    scores = cross_val_score(rf, X, y, scoring='roc_auc', cv=cv, n_jobs=-1)\n",
    "    score = np.mean(scores)\n",
    "    k_scores.append((k, score))\n",
    "    print('> k=%d, Mean ROC AUC: %.3f' % (k, score))"
   ]
  },
  {
   "cell_type": "code",
   "execution_count": 102,
   "id": "1492fc31",
   "metadata": {},
   "outputs": [
    {
     "data": {
      "text/plain": [
       "[(5, 0.802101185697828),\n",
       " (7, 0.8074595131864695),\n",
       " (2, 0.8082619478174653),\n",
       " (4, 0.8085190121485086),\n",
       " (6, 0.809063855017844),\n",
       " (1, 0.8092805937925148),\n",
       " (3, 0.8104500673195821)]"
      ]
     },
     "execution_count": 102,
     "metadata": {},
     "output_type": "execute_result"
    }
   ],
   "source": [
    "sorted(k_scores, key=lambda tup: tup[1])"
   ]
  },
  {
   "cell_type": "code",
   "execution_count": 103,
   "id": "b7deb003",
   "metadata": {},
   "outputs": [
    {
     "data": {
      "text/plain": [
       "3"
      ]
     },
     "execution_count": 103,
     "metadata": {},
     "output_type": "execute_result"
    }
   ],
   "source": [
    "best_k = sorted(k_scores, key=lambda tup: tup[1])[-1][0]\n",
    "best_k"
   ]
  },
  {
   "cell_type": "code",
   "execution_count": 104,
   "id": "a5304844",
   "metadata": {},
   "outputs": [
    {
     "name": "stdout",
     "output_type": "stream",
     "text": [
      "Counter({1: 4861, 0: 4861})\n"
     ]
    },
    {
     "name": "stderr",
     "output_type": "stream",
     "text": [
      "D:\\ProgramData\\Anaconda3\\lib\\site-packages\\sklearn\\utils\\validation.py:63: FutureWarning: Arrays of bytes/strings is being converted to decimal numbers if dtype='numeric'. This behavior is deprecated in 0.24 and will be removed in 1.1 (renaming of 0.26). Please convert your data to numeric values explicitly instead.\n",
      "  return f(*args, **kwargs)\n"
     ]
    }
   ],
   "source": [
    "over  = SMOTE(k_neighbors=best_k)\n",
    "\n",
    "steps = [('over', over)]\n",
    "pipeline = Pipeline(steps=steps)\n",
    "X, y = pipeline.fit_resample(X, y)\n",
    "counter = Counter(y)\n",
    "print(counter)"
   ]
  },
  {
   "cell_type": "code",
   "execution_count": null,
   "id": "c3d06f13",
   "metadata": {},
   "outputs": [],
   "source": [
    "# print(y.value_counts())"
   ]
  },
  {
   "cell_type": "code",
   "execution_count": 152,
   "id": "49095a15",
   "metadata": {},
   "outputs": [
    {
     "data": {
      "text/plain": [
       "x0_Yes                  0\n",
       "x1_Never_worked         0\n",
       "x1_Private              0\n",
       "x1_Self-employed        0\n",
       "x1_children             0\n",
       "x2_Urban                0\n",
       "x3_formerly smoked      0\n",
       "x3_never smoked         0\n",
       "x3_smokes               0\n",
       "gender                  0\n",
       "age                     0\n",
       "hypertension            0\n",
       "heart_disease           0\n",
       "avg_glucose_level       0\n",
       "bmi                     0\n",
       "age_mean              496\n",
       "dtype: int64"
      ]
     },
     "execution_count": 152,
     "metadata": {},
     "output_type": "execute_result"
    }
   ],
   "source": [
    " X.isnull().sum()"
   ]
  },
  {
   "cell_type": "code",
   "execution_count": 160,
   "id": "87b6e23b",
   "metadata": {},
   "outputs": [],
   "source": [
    "X = X.drop(['age_mean'], axis=1)  # 删除 age_mean 列\n",
    "# X.isnull().sum()\n"
   ]
  },
  {
   "cell_type": "code",
   "execution_count": 164,
   "id": "0022c6f2",
   "metadata": {},
   "outputs": [],
   "source": [
    "X_train, X_test, y_train, y_test = train_test_split(X, y, test_size=0.20, stratify = y, random_state=42)"
   ]
  },
  {
   "cell_type": "code",
   "execution_count": 165,
   "id": "998cda6a",
   "metadata": {},
   "outputs": [
    {
     "data": {
      "text/plain": [
       "Index(['x0_Yes', 'x1_Never_worked', 'x1_Private', 'x1_Self-employed',\n",
       "       'x1_children', 'x2_Urban', 'x3_formerly smoked', 'x3_never smoked',\n",
       "       'x3_smokes', 'gender', 'age', 'hypertension', 'heart_disease',\n",
       "       'avg_glucose_level', 'bmi'],\n",
       "      dtype='object')"
      ]
     },
     "execution_count": 165,
     "metadata": {},
     "output_type": "execute_result"
    }
   ],
   "source": [
    "X_train.columns"
   ]
  },
  {
   "cell_type": "code",
   "execution_count": 166,
   "id": "332c398d",
   "metadata": {},
   "outputs": [],
   "source": [
    "rf = RandomForestClassifier()\n",
    "\n",
    "n_estimators = [100,500,700,1000]\n",
    "max_depth = [int(x) for x in np.linspace(10, 110, num = 11)]\n",
    "max_depth.append(None)\n",
    "min_samples_split = [2, 5, 10]\n",
    "min_samples_leaf = [1, 2, 4]\n",
    "bootstrap = [True, False]\n",
    "\n",
    "grid =         {'n_estimators': n_estimators,\n",
    "               'max_depth': max_depth,\n",
    "               'min_samples_split': min_samples_split,\n",
    "               'min_samples_leaf': min_samples_leaf,\n",
    "               'bootstrap': bootstrap}\n",
    "\n",
    "#search_nc = GridSearchCV(estimator = pipeline, param_grid = grid, cv = 5, verbose=1, n_jobs=-1)\n",
    "search = RandomizedSearchCV(estimator = rf, param_distributions = grid, cv = 5, verbose=1, n_jobs=-1)"
   ]
  },
  {
   "cell_type": "code",
   "execution_count": 167,
   "id": "39159abf",
   "metadata": {},
   "outputs": [
    {
     "name": "stdout",
     "output_type": "stream",
     "text": [
      "Fitting 5 folds for each of 10 candidates, totalling 50 fits\n",
      "              precision    recall  f1-score   support\n",
      "\n",
      "           0       0.97      0.99      0.98       973\n",
      "           1       0.99      0.97      0.98       972\n",
      "\n",
      "    accuracy                           0.98      1945\n",
      "   macro avg       0.98      0.98      0.98      1945\n",
      "weighted avg       0.98      0.98      0.98      1945\n",
      "\n"
     ]
    }
   ],
   "source": [
    "search.fit(X_train, y_train)\n",
    "preds = search.predict(X_test)\n",
    "print(classification_report(y_test, preds))\n"
   ]
  }
 ],
 "metadata": {
  "kernelspec": {
   "display_name": "Python 3",
   "language": "python",
   "name": "python3"
  },
  "language_info": {
   "codemirror_mode": {
    "name": "ipython",
    "version": 3
   },
   "file_extension": ".py",
   "mimetype": "text/x-python",
   "name": "python",
   "nbconvert_exporter": "python",
   "pygments_lexer": "ipython3",
   "version": "3.8.11"
  },
  "toc": {
   "base_numbering": 1,
   "nav_menu": {},
   "number_sections": true,
   "sideBar": true,
   "skip_h1_title": false,
   "title_cell": "Table of Contents",
   "title_sidebar": "Contents",
   "toc_cell": false,
   "toc_position": {},
   "toc_section_display": true,
   "toc_window_display": false
  }
 },
 "nbformat": 4,
 "nbformat_minor": 5
}
