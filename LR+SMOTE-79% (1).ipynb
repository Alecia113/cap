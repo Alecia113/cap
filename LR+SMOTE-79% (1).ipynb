{
 "cells": [
  {
   "cell_type": "markdown",
   "id": "83bccf7c",
   "metadata": {},
   "source": [
    "#  各种包"
   ]
  },
  {
   "cell_type": "code",
   "execution_count": 1,
   "id": "e9bab1c3",
   "metadata": {},
   "outputs": [],
   "source": [
    "import pandas as pd \n",
    "import numpy as np\n",
    "#from numpy.core.umath_tests import inner1d\n",
    "import matplotlib.pyplot as plt\n",
    "import seaborn as sns\n",
    "\n",
    "from sklearn.preprocessing import LabelEncoder, StandardScaler, OneHotEncoder\n",
    "\n",
    "from sklearn.feature_selection import SelectKBest, f_classif\n",
    "\n",
    "from sklearn.model_selection import train_test_split, cross_val_score,  RepeatedStratifiedKFold,RandomizedSearchCV, GridSearchCV\n",
    "from sklearn.metrics import accuracy_score, f1_score,classification_report,precision_score,recall_score\n",
    "from sklearn.metrics import classification_report, roc_curve, confusion_matrix\n",
    "from collections import Counter\n",
    "\n",
    "# modelos\n",
    "from sklearn.ensemble import RandomForestClassifier, AdaBoostClassifier, GradientBoostingClassifier\n",
    "from sklearn.ensemble import  ExtraTreesClassifier,VotingClassifier\n",
    "from sklearn.neighbors import KNeighborsClassifier\n",
    "from sklearn.linear_model import LogisticRegression\n",
    "from sklearn.svm import SVC\n",
    "from imblearn.over_sampling import SMOTE\n",
    "from imblearn.under_sampling import RandomUnderSampler\n",
    "from imblearn.pipeline import Pipeline\n",
    "from sklearn.model_selection import train_test_split\n",
    "from sklearn.metrics import f1_score,roc_auc_score,accuracy_score,confusion_matrix,precision_recall_curve,auc,roc_curve,recall_score, classification_report\n",
    "from matplotlib import pyplot\n",
    "from imblearn.over_sampling import SMOTE\n",
    "from sklearn.model_selection import train_test_split\n",
    "\n",
    "\n",
    "import sys"
   ]
  },
  {
   "cell_type": "markdown",
   "id": "047b70bc",
   "metadata": {},
   "source": [
    "# 数据导入"
   ]
  },
  {
   "cell_type": "code",
   "execution_count": 2,
   "id": "daf944d1",
   "metadata": {},
   "outputs": [],
   "source": [
    "data = pd.read_csv('healthcare-dataset-stroke-data.csv')"
   ]
  },
  {
   "cell_type": "code",
   "execution_count": 3,
   "id": "8cc2f785",
   "metadata": {
    "scrolled": true
   },
   "outputs": [
    {
     "data": {
      "text/html": [
       "<div>\n",
       "<style scoped>\n",
       "    .dataframe tbody tr th:only-of-type {\n",
       "        vertical-align: middle;\n",
       "    }\n",
       "\n",
       "    .dataframe tbody tr th {\n",
       "        vertical-align: top;\n",
       "    }\n",
       "\n",
       "    .dataframe thead th {\n",
       "        text-align: right;\n",
       "    }\n",
       "</style>\n",
       "<table border=\"1\" class=\"dataframe\">\n",
       "  <thead>\n",
       "    <tr style=\"text-align: right;\">\n",
       "      <th></th>\n",
       "      <th>id</th>\n",
       "      <th>gender</th>\n",
       "      <th>age</th>\n",
       "      <th>hypertension</th>\n",
       "      <th>heart_disease</th>\n",
       "      <th>ever_married</th>\n",
       "      <th>work_type</th>\n",
       "      <th>Residence_type</th>\n",
       "      <th>avg_glucose_level</th>\n",
       "      <th>bmi</th>\n",
       "      <th>smoking_status</th>\n",
       "      <th>stroke</th>\n",
       "    </tr>\n",
       "  </thead>\n",
       "  <tbody>\n",
       "    <tr>\n",
       "      <th>0</th>\n",
       "      <td>9046</td>\n",
       "      <td>Male</td>\n",
       "      <td>67.0</td>\n",
       "      <td>0</td>\n",
       "      <td>1</td>\n",
       "      <td>Yes</td>\n",
       "      <td>Private</td>\n",
       "      <td>Urban</td>\n",
       "      <td>228.69</td>\n",
       "      <td>36.6</td>\n",
       "      <td>formerly smoked</td>\n",
       "      <td>1</td>\n",
       "    </tr>\n",
       "    <tr>\n",
       "      <th>1</th>\n",
       "      <td>51676</td>\n",
       "      <td>Female</td>\n",
       "      <td>61.0</td>\n",
       "      <td>0</td>\n",
       "      <td>0</td>\n",
       "      <td>Yes</td>\n",
       "      <td>Self-employed</td>\n",
       "      <td>Rural</td>\n",
       "      <td>202.21</td>\n",
       "      <td>NaN</td>\n",
       "      <td>never smoked</td>\n",
       "      <td>1</td>\n",
       "    </tr>\n",
       "    <tr>\n",
       "      <th>2</th>\n",
       "      <td>31112</td>\n",
       "      <td>Male</td>\n",
       "      <td>80.0</td>\n",
       "      <td>0</td>\n",
       "      <td>1</td>\n",
       "      <td>Yes</td>\n",
       "      <td>Private</td>\n",
       "      <td>Rural</td>\n",
       "      <td>105.92</td>\n",
       "      <td>32.5</td>\n",
       "      <td>never smoked</td>\n",
       "      <td>1</td>\n",
       "    </tr>\n",
       "    <tr>\n",
       "      <th>3</th>\n",
       "      <td>60182</td>\n",
       "      <td>Female</td>\n",
       "      <td>49.0</td>\n",
       "      <td>0</td>\n",
       "      <td>0</td>\n",
       "      <td>Yes</td>\n",
       "      <td>Private</td>\n",
       "      <td>Urban</td>\n",
       "      <td>171.23</td>\n",
       "      <td>34.4</td>\n",
       "      <td>smokes</td>\n",
       "      <td>1</td>\n",
       "    </tr>\n",
       "    <tr>\n",
       "      <th>4</th>\n",
       "      <td>1665</td>\n",
       "      <td>Female</td>\n",
       "      <td>79.0</td>\n",
       "      <td>1</td>\n",
       "      <td>0</td>\n",
       "      <td>Yes</td>\n",
       "      <td>Self-employed</td>\n",
       "      <td>Rural</td>\n",
       "      <td>174.12</td>\n",
       "      <td>24.0</td>\n",
       "      <td>never smoked</td>\n",
       "      <td>1</td>\n",
       "    </tr>\n",
       "  </tbody>\n",
       "</table>\n",
       "</div>"
      ],
      "text/plain": [
       "      id  gender   age  hypertension  heart_disease ever_married  \\\n",
       "0   9046    Male  67.0             0              1          Yes   \n",
       "1  51676  Female  61.0             0              0          Yes   \n",
       "2  31112    Male  80.0             0              1          Yes   \n",
       "3  60182  Female  49.0             0              0          Yes   \n",
       "4   1665  Female  79.0             1              0          Yes   \n",
       "\n",
       "       work_type Residence_type  avg_glucose_level   bmi   smoking_status  \\\n",
       "0        Private          Urban             228.69  36.6  formerly smoked   \n",
       "1  Self-employed          Rural             202.21   NaN     never smoked   \n",
       "2        Private          Rural             105.92  32.5     never smoked   \n",
       "3        Private          Urban             171.23  34.4           smokes   \n",
       "4  Self-employed          Rural             174.12  24.0     never smoked   \n",
       "\n",
       "   stroke  \n",
       "0       1  \n",
       "1       1  \n",
       "2       1  \n",
       "3       1  \n",
       "4       1  "
      ]
     },
     "execution_count": 3,
     "metadata": {},
     "output_type": "execute_result"
    }
   ],
   "source": [
    "data.head(5)"
   ]
  },
  {
   "cell_type": "markdown",
   "id": "5ac39a28",
   "metadata": {},
   "source": [
    "# 预处理 "
   ]
  },
  {
   "cell_type": "code",
   "execution_count": 4,
   "id": "3a801fbe",
   "metadata": {},
   "outputs": [],
   "source": [
    "# data1 : without id\n",
    "data = data.drop(['id'], axis=1)\n"
   ]
  },
  {
   "cell_type": "code",
   "execution_count": 5,
   "id": "1ddb3613",
   "metadata": {
    "scrolled": false
   },
   "outputs": [
    {
     "data": {
      "text/plain": [
       "gender                 0\n",
       "age                    0\n",
       "hypertension           0\n",
       "heart_disease          0\n",
       "ever_married           0\n",
       "work_type              0\n",
       "Residence_type         0\n",
       "avg_glucose_level      0\n",
       "bmi                  201\n",
       "smoking_status         0\n",
       "stroke                 0\n",
       "dtype: int64"
      ]
     },
     "execution_count": 5,
     "metadata": {},
     "output_type": "execute_result"
    }
   ],
   "source": [
    "data.isnull().sum()"
   ]
  },
  {
   "cell_type": "code",
   "execution_count": 6,
   "id": "2a88807b",
   "metadata": {
    "scrolled": false
   },
   "outputs": [
    {
     "data": {
      "text/plain": [
       "Private          2925\n",
       "Self-employed     819\n",
       "children          687\n",
       "Govt_job          657\n",
       "Never_worked       22\n",
       "Name: work_type, dtype: int64"
      ]
     },
     "execution_count": 6,
     "metadata": {},
     "output_type": "execute_result"
    }
   ],
   "source": [
    "data.work_type.value_counts()"
   ]
  },
  {
   "cell_type": "code",
   "execution_count": 7,
   "id": "6f4611fd",
   "metadata": {},
   "outputs": [
    {
     "data": {
      "text/plain": [
       "age_mean\n",
       "1    20.787661\n",
       "2    28.601332\n",
       "3    31.425088\n",
       "4    31.580618\n",
       "5    29.415118\n",
       "Name: bmi, dtype: float64"
      ]
     },
     "execution_count": 7,
     "metadata": {},
     "output_type": "execute_result"
    }
   ],
   "source": [
    "label = [1,2,3,4,5]\n",
    "data[\"age_mean\"] = pd.cut(data[\"age\"], 5, labels = label)\n",
    "data[\"age_mean\"].value_counts()\n",
    "bmi_group = data.groupby(\"age_mean\")[\"bmi\"].mean() #将年龄阶段分为五组，分别计算平均的bmi\n",
    "bmi_group"
   ]
  },
  {
   "cell_type": "code",
   "execution_count": 8,
   "id": "ca3ab78e",
   "metadata": {},
   "outputs": [],
   "source": [
    "def bmi_val(cols): #给 bmi 按年龄分配平均值\n",
    "    bmi = cols[0]\n",
    "    age_mean = cols[1]\n",
    "    \n",
    "    if pd.isnull(bmi):\n",
    "        if age_mean == 1:\n",
    "            return 20.7\n",
    "        elif age_mean == 2:\n",
    "            return 28.6\n",
    "        elif age_mean == 3:\n",
    "            return 31.4\n",
    "        elif age_mean == 4:\n",
    "            return 31.6\n",
    "        elif age_mean == 5:\n",
    "            return 29.4\n",
    "    else:\n",
    "        return bmi"
   ]
  },
  {
   "cell_type": "code",
   "execution_count": 9,
   "id": "a2651cc6",
   "metadata": {},
   "outputs": [],
   "source": [
    "data[\"bmi\"] = data[[\"bmi\",\"age_mean\"]].apply(bmi_val, axis=1)"
   ]
  },
  {
   "cell_type": "code",
   "execution_count": 10,
   "id": "ba5f0ad7",
   "metadata": {
    "scrolled": true
   },
   "outputs": [
    {
     "data": {
      "text/plain": [
       "gender               0\n",
       "age                  0\n",
       "hypertension         0\n",
       "heart_disease        0\n",
       "ever_married         0\n",
       "work_type            0\n",
       "Residence_type       0\n",
       "avg_glucose_level    0\n",
       "bmi                  0\n",
       "smoking_status       0\n",
       "stroke               0\n",
       "age_mean             0\n",
       "dtype: int64"
      ]
     },
     "execution_count": 10,
     "metadata": {},
     "output_type": "execute_result"
    }
   ],
   "source": [
    "data.isnull().sum() "
   ]
  },
  {
   "cell_type": "code",
   "execution_count": 11,
   "id": "f004c2d4",
   "metadata": {},
   "outputs": [],
   "source": [
    "data.gender = data.gender.apply(\n",
    "    lambda x: 0 \n",
    "    if ((x == 'Female') or (x == 'Other')) \n",
    "    else 1)\n",
    "\n",
    "#将other 改成 Female"
   ]
  },
  {
   "cell_type": "code",
   "execution_count": 12,
   "id": "f2b29336",
   "metadata": {},
   "outputs": [
    {
     "data": {
      "text/plain": [
       "0    2995\n",
       "1    2115\n",
       "Name: gender, dtype: int64"
      ]
     },
     "execution_count": 12,
     "metadata": {},
     "output_type": "execute_result"
    }
   ],
   "source": [
    "data.gender.value_counts()"
   ]
  },
  {
   "cell_type": "code",
   "execution_count": 13,
   "id": "d13c9659",
   "metadata": {
    "scrolled": true
   },
   "outputs": [
    {
     "data": {
      "text/plain": [
       "0       67\n",
       "1       61\n",
       "2       80\n",
       "3       49\n",
       "4       79\n",
       "        ..\n",
       "5105    80\n",
       "5106    81\n",
       "5107    35\n",
       "5108    51\n",
       "5109    44\n",
       "Name: age, Length: 5110, dtype: int64"
      ]
     },
     "execution_count": 13,
     "metadata": {},
     "output_type": "execute_result"
    }
   ],
   "source": [
    "data['age'] = data['age'].apply(lambda x: round(x))\n",
    "data['age']"
   ]
  },
  {
   "cell_type": "code",
   "execution_count": 14,
   "id": "177f2791",
   "metadata": {},
   "outputs": [
    {
     "data": {
      "text/plain": [
       "Index(['gender', 'age', 'hypertension', 'heart_disease', 'ever_married',\n",
       "       'work_type', 'Residence_type', 'avg_glucose_level', 'bmi',\n",
       "       'smoking_status', 'stroke', 'age_mean'],\n",
       "      dtype='object')"
      ]
     },
     "execution_count": 14,
     "metadata": {},
     "output_type": "execute_result"
    }
   ],
   "source": [
    "Feature = data.columns\n",
    "Feature"
   ]
  },
  {
   "cell_type": "markdown",
   "id": "c222d5b4",
   "metadata": {},
   "source": [
    "# 数据类型转换"
   ]
  },
  {
   "cell_type": "code",
   "execution_count": null,
   "id": "ce99dfda",
   "metadata": {},
   "outputs": [],
   "source": [
    "# transformer = ColumnTransformer(transformers=[('imp',SimpleImputer(strategy='median'),numerical),('o',OneHotEncoder(),categorical)])\n",
    "# pipeline = Pipeline(steps=[('t', transformer),('p',PowerTransformer(method='yeo-johnson')),('m', LR)])    \n",
    "# scores = evaluate_model(X, y, pipeline)\n",
    "# # results.append(scores)\n",
    "# # print('>%s %.3f (%.3f)' % (names[i], np.mean(scores), np.std(scores)))\n",
    "# scores"
   ]
  },
  {
   "cell_type": "code",
   "execution_count": 15,
   "id": "61fc9f1f",
   "metadata": {},
   "outputs": [
    {
     "data": {
      "text/html": [
       "<div>\n",
       "<style scoped>\n",
       "    .dataframe tbody tr th:only-of-type {\n",
       "        vertical-align: middle;\n",
       "    }\n",
       "\n",
       "    .dataframe tbody tr th {\n",
       "        vertical-align: top;\n",
       "    }\n",
       "\n",
       "    .dataframe thead th {\n",
       "        text-align: right;\n",
       "    }\n",
       "</style>\n",
       "<table border=\"1\" class=\"dataframe\">\n",
       "  <thead>\n",
       "    <tr style=\"text-align: right;\">\n",
       "      <th></th>\n",
       "      <th>ever_married</th>\n",
       "      <th>work_type</th>\n",
       "      <th>Residence_type</th>\n",
       "      <th>smoking_status</th>\n",
       "    </tr>\n",
       "  </thead>\n",
       "  <tbody>\n",
       "    <tr>\n",
       "      <th>0</th>\n",
       "      <td>Yes</td>\n",
       "      <td>Private</td>\n",
       "      <td>Urban</td>\n",
       "      <td>formerly smoked</td>\n",
       "    </tr>\n",
       "    <tr>\n",
       "      <th>1</th>\n",
       "      <td>Yes</td>\n",
       "      <td>Self-employed</td>\n",
       "      <td>Rural</td>\n",
       "      <td>never smoked</td>\n",
       "    </tr>\n",
       "    <tr>\n",
       "      <th>2</th>\n",
       "      <td>Yes</td>\n",
       "      <td>Private</td>\n",
       "      <td>Rural</td>\n",
       "      <td>never smoked</td>\n",
       "    </tr>\n",
       "    <tr>\n",
       "      <th>3</th>\n",
       "      <td>Yes</td>\n",
       "      <td>Private</td>\n",
       "      <td>Urban</td>\n",
       "      <td>smokes</td>\n",
       "    </tr>\n",
       "    <tr>\n",
       "      <th>4</th>\n",
       "      <td>Yes</td>\n",
       "      <td>Self-employed</td>\n",
       "      <td>Rural</td>\n",
       "      <td>never smoked</td>\n",
       "    </tr>\n",
       "    <tr>\n",
       "      <th>...</th>\n",
       "      <td>...</td>\n",
       "      <td>...</td>\n",
       "      <td>...</td>\n",
       "      <td>...</td>\n",
       "    </tr>\n",
       "    <tr>\n",
       "      <th>5105</th>\n",
       "      <td>Yes</td>\n",
       "      <td>Private</td>\n",
       "      <td>Urban</td>\n",
       "      <td>never smoked</td>\n",
       "    </tr>\n",
       "    <tr>\n",
       "      <th>5106</th>\n",
       "      <td>Yes</td>\n",
       "      <td>Self-employed</td>\n",
       "      <td>Urban</td>\n",
       "      <td>never smoked</td>\n",
       "    </tr>\n",
       "    <tr>\n",
       "      <th>5107</th>\n",
       "      <td>Yes</td>\n",
       "      <td>Self-employed</td>\n",
       "      <td>Rural</td>\n",
       "      <td>never smoked</td>\n",
       "    </tr>\n",
       "    <tr>\n",
       "      <th>5108</th>\n",
       "      <td>Yes</td>\n",
       "      <td>Private</td>\n",
       "      <td>Rural</td>\n",
       "      <td>formerly smoked</td>\n",
       "    </tr>\n",
       "    <tr>\n",
       "      <th>5109</th>\n",
       "      <td>Yes</td>\n",
       "      <td>Govt_job</td>\n",
       "      <td>Urban</td>\n",
       "      <td>Unknown</td>\n",
       "    </tr>\n",
       "  </tbody>\n",
       "</table>\n",
       "<p>5110 rows × 4 columns</p>\n",
       "</div>"
      ],
      "text/plain": [
       "     ever_married      work_type Residence_type   smoking_status\n",
       "0             Yes        Private          Urban  formerly smoked\n",
       "1             Yes  Self-employed          Rural     never smoked\n",
       "2             Yes        Private          Rural     never smoked\n",
       "3             Yes        Private          Urban           smokes\n",
       "4             Yes  Self-employed          Rural     never smoked\n",
       "...           ...            ...            ...              ...\n",
       "5105          Yes        Private          Urban     never smoked\n",
       "5106          Yes  Self-employed          Urban     never smoked\n",
       "5107          Yes  Self-employed          Rural     never smoked\n",
       "5108          Yes        Private          Rural  formerly smoked\n",
       "5109          Yes       Govt_job          Urban          Unknown\n",
       "\n",
       "[5110 rows x 4 columns]"
      ]
     },
     "execution_count": 15,
     "metadata": {},
     "output_type": "execute_result"
    }
   ],
   "source": [
    "data.select_dtypes('object')"
   ]
  },
  {
   "cell_type": "code",
   "execution_count": null,
   "id": "a0eaf528",
   "metadata": {
    "scrolled": true
   },
   "outputs": [],
   "source": [
    "# #这个地方的处理很有问题。\n",
    "# ohe = OneHotEncoder(drop = 'first', sparse=False, handle_unknown = 'error')\n",
    "# data_t = pd.DataFrame(ohe.fit_transform(data.select_dtypes('object')))\n",
    "\n",
    "# data_t.columns = ohe.get_feature_names()\n",
    "# data_t.head(2)\n",
    "# data_t.shape"
   ]
  },
  {
   "cell_type": "markdown",
   "id": "b1e248b9",
   "metadata": {},
   "source": [
    "# 最新改变\n"
   ]
  },
  {
   "cell_type": "code",
   "execution_count": 16,
   "id": "af0fdf1f",
   "metadata": {},
   "outputs": [
    {
     "data": {
      "text/html": [
       "<div>\n",
       "<style scoped>\n",
       "    .dataframe tbody tr th:only-of-type {\n",
       "        vertical-align: middle;\n",
       "    }\n",
       "\n",
       "    .dataframe tbody tr th {\n",
       "        vertical-align: top;\n",
       "    }\n",
       "\n",
       "    .dataframe thead th {\n",
       "        text-align: right;\n",
       "    }\n",
       "</style>\n",
       "<table border=\"1\" class=\"dataframe\">\n",
       "  <thead>\n",
       "    <tr style=\"text-align: right;\">\n",
       "      <th></th>\n",
       "      <th>ever_married</th>\n",
       "      <th>work_type</th>\n",
       "      <th>Residence_type</th>\n",
       "      <th>smoking_status</th>\n",
       "    </tr>\n",
       "  </thead>\n",
       "  <tbody>\n",
       "    <tr>\n",
       "      <th>0</th>\n",
       "      <td>Yes</td>\n",
       "      <td>Private</td>\n",
       "      <td>Urban</td>\n",
       "      <td>formerly smoked</td>\n",
       "    </tr>\n",
       "    <tr>\n",
       "      <th>1</th>\n",
       "      <td>Yes</td>\n",
       "      <td>Self-employed</td>\n",
       "      <td>Rural</td>\n",
       "      <td>never smoked</td>\n",
       "    </tr>\n",
       "    <tr>\n",
       "      <th>2</th>\n",
       "      <td>Yes</td>\n",
       "      <td>Private</td>\n",
       "      <td>Rural</td>\n",
       "      <td>never smoked</td>\n",
       "    </tr>\n",
       "    <tr>\n",
       "      <th>3</th>\n",
       "      <td>Yes</td>\n",
       "      <td>Private</td>\n",
       "      <td>Urban</td>\n",
       "      <td>smokes</td>\n",
       "    </tr>\n",
       "    <tr>\n",
       "      <th>4</th>\n",
       "      <td>Yes</td>\n",
       "      <td>Self-employed</td>\n",
       "      <td>Rural</td>\n",
       "      <td>never smoked</td>\n",
       "    </tr>\n",
       "    <tr>\n",
       "      <th>...</th>\n",
       "      <td>...</td>\n",
       "      <td>...</td>\n",
       "      <td>...</td>\n",
       "      <td>...</td>\n",
       "    </tr>\n",
       "    <tr>\n",
       "      <th>5105</th>\n",
       "      <td>Yes</td>\n",
       "      <td>Private</td>\n",
       "      <td>Urban</td>\n",
       "      <td>never smoked</td>\n",
       "    </tr>\n",
       "    <tr>\n",
       "      <th>5106</th>\n",
       "      <td>Yes</td>\n",
       "      <td>Self-employed</td>\n",
       "      <td>Urban</td>\n",
       "      <td>never smoked</td>\n",
       "    </tr>\n",
       "    <tr>\n",
       "      <th>5107</th>\n",
       "      <td>Yes</td>\n",
       "      <td>Self-employed</td>\n",
       "      <td>Rural</td>\n",
       "      <td>never smoked</td>\n",
       "    </tr>\n",
       "    <tr>\n",
       "      <th>5108</th>\n",
       "      <td>Yes</td>\n",
       "      <td>Private</td>\n",
       "      <td>Rural</td>\n",
       "      <td>formerly smoked</td>\n",
       "    </tr>\n",
       "    <tr>\n",
       "      <th>5109</th>\n",
       "      <td>Yes</td>\n",
       "      <td>Govt_job</td>\n",
       "      <td>Urban</td>\n",
       "      <td>Unknown</td>\n",
       "    </tr>\n",
       "  </tbody>\n",
       "</table>\n",
       "<p>5110 rows × 4 columns</p>\n",
       "</div>"
      ],
      "text/plain": [
       "     ever_married      work_type Residence_type   smoking_status\n",
       "0             Yes        Private          Urban  formerly smoked\n",
       "1             Yes  Self-employed          Rural     never smoked\n",
       "2             Yes        Private          Rural     never smoked\n",
       "3             Yes        Private          Urban           smokes\n",
       "4             Yes  Self-employed          Rural     never smoked\n",
       "...           ...            ...            ...              ...\n",
       "5105          Yes        Private          Urban     never smoked\n",
       "5106          Yes  Self-employed          Urban     never smoked\n",
       "5107          Yes  Self-employed          Rural     never smoked\n",
       "5108          Yes        Private          Rural  formerly smoked\n",
       "5109          Yes       Govt_job          Urban          Unknown\n",
       "\n",
       "[5110 rows x 4 columns]"
      ]
     },
     "execution_count": 16,
     "metadata": {},
     "output_type": "execute_result"
    }
   ],
   "source": [
    "data.select_dtypes('object')"
   ]
  },
  {
   "cell_type": "code",
   "execution_count": 26,
   "id": "535b5d2e",
   "metadata": {
    "scrolled": true
   },
   "outputs": [
    {
     "data": {
      "text/plain": [
       "1    3353\n",
       "0    1757\n",
       "Name: ever_married, dtype: int64"
      ]
     },
     "execution_count": 26,
     "metadata": {},
     "output_type": "execute_result"
    }
   ],
   "source": [
    "data.ever_married.value_counts()"
   ]
  },
  {
   "cell_type": "code",
   "execution_count": 18,
   "id": "409b8538",
   "metadata": {},
   "outputs": [
    {
     "data": {
      "text/plain": [
       "0       Yes\n",
       "1       Yes\n",
       "2       Yes\n",
       "3       Yes\n",
       "4       Yes\n",
       "       ... \n",
       "5105    Yes\n",
       "5106    Yes\n",
       "5107    Yes\n",
       "5108    Yes\n",
       "5109    Yes\n",
       "Name: ever_married, Length: 5110, dtype: object"
      ]
     },
     "execution_count": 18,
     "metadata": {},
     "output_type": "execute_result"
    }
   ],
   "source": [
    "data.ever_married"
   ]
  },
  {
   "cell_type": "code",
   "execution_count": 19,
   "id": "18aa00a2",
   "metadata": {
    "scrolled": true
   },
   "outputs": [
    {
     "data": {
      "text/plain": [
       "Private          2925\n",
       "Self-employed     819\n",
       "children          687\n",
       "Govt_job          657\n",
       "Never_worked       22\n",
       "Name: work_type, dtype: int64"
      ]
     },
     "execution_count": 19,
     "metadata": {},
     "output_type": "execute_result"
    }
   ],
   "source": [
    "data.work_type.value_counts()"
   ]
  },
  {
   "cell_type": "code",
   "execution_count": 28,
   "id": "ce5777c9",
   "metadata": {},
   "outputs": [
    {
     "name": "stdout",
     "output_type": "stream",
     "text": [
      "0       1\n",
      "1       1\n",
      "2       1\n",
      "3       1\n",
      "4       1\n",
      "       ..\n",
      "5105    1\n",
      "5106    1\n",
      "5107    1\n",
      "5108    1\n",
      "5109    1\n",
      "Name: ever_married, Length: 5110, dtype: object\n"
     ]
    }
   ],
   "source": [
    "for i in range(len(data.ever_married)):\n",
    "    if data.ever_married[i] == 'Yes':\n",
    "        data.ever_married[i] = 1\n",
    "\n",
    "    elif data.ever_married[i] == 'No':\n",
    "        data.ever_married[i] = 0\n",
    "print(data.ever_married)"
   ]
  },
  {
   "cell_type": "code",
   "execution_count": 31,
   "id": "8ab7cf93",
   "metadata": {
    "scrolled": true
   },
   "outputs": [
    {
     "data": {
      "text/plain": [
       "1    3353\n",
       "0    1757\n",
       "Name: ever_married, dtype: int64"
      ]
     },
     "execution_count": 31,
     "metadata": {},
     "output_type": "execute_result"
    }
   ],
   "source": [
    "data.ever_married.value_counts()"
   ]
  },
  {
   "cell_type": "markdown",
   "id": "5e402875",
   "metadata": {},
   "source": [
    "## work_type"
   ]
  },
  {
   "cell_type": "code",
   "execution_count": 32,
   "id": "1cde2533",
   "metadata": {},
   "outputs": [
    {
     "data": {
      "text/plain": [
       "Private          2925\n",
       "Self-employed     819\n",
       "children          687\n",
       "Govt_job          657\n",
       "Never_worked       22\n",
       "Name: work_type, dtype: int64"
      ]
     },
     "execution_count": 32,
     "metadata": {},
     "output_type": "execute_result"
    }
   ],
   "source": [
    "data.work_type.value_counts()"
   ]
  },
  {
   "cell_type": "code",
   "execution_count": 33,
   "id": "11bce0e6",
   "metadata": {},
   "outputs": [
    {
     "name": "stdout",
     "output_type": "stream",
     "text": [
      "0       0\n",
      "1       1\n",
      "2       0\n",
      "3       0\n",
      "4       1\n",
      "       ..\n",
      "5105    0\n",
      "5106    1\n",
      "5107    1\n",
      "5108    0\n",
      "5109    3\n",
      "Name: work_type, Length: 5110, dtype: object\n"
     ]
    },
    {
     "name": "stderr",
     "output_type": "stream",
     "text": [
      "<ipython-input-33-1b13aa098b83>:3: SettingWithCopyWarning: \n",
      "A value is trying to be set on a copy of a slice from a DataFrame\n",
      "\n",
      "See the caveats in the documentation: https://pandas.pydata.org/pandas-docs/stable/user_guide/indexing.html#returning-a-view-versus-a-copy\n",
      "  data.work_type[i] = 0\n",
      "<ipython-input-33-1b13aa098b83>:5: SettingWithCopyWarning: \n",
      "A value is trying to be set on a copy of a slice from a DataFrame\n",
      "\n",
      "See the caveats in the documentation: https://pandas.pydata.org/pandas-docs/stable/user_guide/indexing.html#returning-a-view-versus-a-copy\n",
      "  data.work_type[i] = 1\n",
      "<ipython-input-33-1b13aa098b83>:9: SettingWithCopyWarning: \n",
      "A value is trying to be set on a copy of a slice from a DataFrame\n",
      "\n",
      "See the caveats in the documentation: https://pandas.pydata.org/pandas-docs/stable/user_guide/indexing.html#returning-a-view-versus-a-copy\n",
      "  data.work_type[i] = 3\n",
      "<ipython-input-33-1b13aa098b83>:7: SettingWithCopyWarning: \n",
      "A value is trying to be set on a copy of a slice from a DataFrame\n",
      "\n",
      "See the caveats in the documentation: https://pandas.pydata.org/pandas-docs/stable/user_guide/indexing.html#returning-a-view-versus-a-copy\n",
      "  data.work_type[i] = 2\n",
      "<ipython-input-33-1b13aa098b83>:11: SettingWithCopyWarning: \n",
      "A value is trying to be set on a copy of a slice from a DataFrame\n",
      "\n",
      "See the caveats in the documentation: https://pandas.pydata.org/pandas-docs/stable/user_guide/indexing.html#returning-a-view-versus-a-copy\n",
      "  data.work_type[i] = 4\n"
     ]
    }
   ],
   "source": [
    "for i in range(len(data.work_type)):\n",
    "    if data.work_type[i] == 'Private':\n",
    "        data.work_type[i] = 0\n",
    "    elif data.work_type[i] == 'Self-employed':\n",
    "        data.work_type[i] = 1\n",
    "    elif data.work_type[i] == 'children':\n",
    "        data.work_type[i] = 2\n",
    "    elif data.work_type[i] == 'Govt_job':\n",
    "        data.work_type[i] = 3\n",
    "    elif data.work_type[i] == 'Never_worked':\n",
    "        data.work_type[i] = 4\n",
    "        \n",
    "print(data.work_type)"
   ]
  },
  {
   "cell_type": "code",
   "execution_count": 34,
   "id": "c8052d10",
   "metadata": {
    "scrolled": true
   },
   "outputs": [
    {
     "data": {
      "text/plain": [
       "0    2925\n",
       "1     819\n",
       "2     687\n",
       "3     657\n",
       "4      22\n",
       "Name: work_type, dtype: int64"
      ]
     },
     "execution_count": 34,
     "metadata": {},
     "output_type": "execute_result"
    }
   ],
   "source": [
    "data.work_type.value_counts()"
   ]
  },
  {
   "cell_type": "markdown",
   "id": "95a6536f",
   "metadata": {},
   "source": [
    "## Residence_type"
   ]
  },
  {
   "cell_type": "code",
   "execution_count": 35,
   "id": "d1816391",
   "metadata": {
    "scrolled": true
   },
   "outputs": [
    {
     "data": {
      "text/plain": [
       "Urban    2596\n",
       "Rural    2514\n",
       "Name: Residence_type, dtype: int64"
      ]
     },
     "execution_count": 35,
     "metadata": {},
     "output_type": "execute_result"
    }
   ],
   "source": [
    "data.Residence_type.value_counts()"
   ]
  },
  {
   "cell_type": "code",
   "execution_count": 36,
   "id": "c32c5bbd",
   "metadata": {},
   "outputs": [
    {
     "name": "stdout",
     "output_type": "stream",
     "text": [
      "0       0\n",
      "1       1\n",
      "2       1\n",
      "3       0\n",
      "4       1\n",
      "       ..\n",
      "5105    0\n",
      "5106    0\n",
      "5107    1\n",
      "5108    1\n",
      "5109    0\n",
      "Name: Residence_type, Length: 5110, dtype: object\n"
     ]
    },
    {
     "name": "stderr",
     "output_type": "stream",
     "text": [
      "<ipython-input-36-488360f52dd0>:3: SettingWithCopyWarning: \n",
      "A value is trying to be set on a copy of a slice from a DataFrame\n",
      "\n",
      "See the caveats in the documentation: https://pandas.pydata.org/pandas-docs/stable/user_guide/indexing.html#returning-a-view-versus-a-copy\n",
      "  data.Residence_type[i] = 0\n",
      "<ipython-input-36-488360f52dd0>:5: SettingWithCopyWarning: \n",
      "A value is trying to be set on a copy of a slice from a DataFrame\n",
      "\n",
      "See the caveats in the documentation: https://pandas.pydata.org/pandas-docs/stable/user_guide/indexing.html#returning-a-view-versus-a-copy\n",
      "  data.Residence_type[i] = 1\n"
     ]
    }
   ],
   "source": [
    "for i in range(len(data.Residence_type)):\n",
    "    if data.Residence_type[i] == 'Urban':\n",
    "        data.Residence_type[i] = 0\n",
    "    elif data.Residence_type[i] == 'Rural':\n",
    "        data.Residence_type[i] = 1\n",
    "\n",
    "print(data.Residence_type)"
   ]
  },
  {
   "cell_type": "code",
   "execution_count": 37,
   "id": "6c00f3b6",
   "metadata": {},
   "outputs": [
    {
     "data": {
      "text/plain": [
       "0    2596\n",
       "1    2514\n",
       "Name: Residence_type, dtype: int64"
      ]
     },
     "execution_count": 37,
     "metadata": {},
     "output_type": "execute_result"
    }
   ],
   "source": [
    "data.Residence_type.value_counts()"
   ]
  },
  {
   "cell_type": "markdown",
   "id": "803b46b0",
   "metadata": {},
   "source": [
    "## \tsmoking_status"
   ]
  },
  {
   "cell_type": "code",
   "execution_count": 38,
   "id": "d4aba3f0",
   "metadata": {
    "scrolled": false
   },
   "outputs": [
    {
     "data": {
      "text/plain": [
       "never smoked       1892\n",
       "Unknown            1544\n",
       "formerly smoked     885\n",
       "smokes              789\n",
       "Name: smoking_status, dtype: int64"
      ]
     },
     "execution_count": 38,
     "metadata": {},
     "output_type": "execute_result"
    }
   ],
   "source": [
    "data.smoking_status.value_counts()"
   ]
  },
  {
   "cell_type": "code",
   "execution_count": 42,
   "id": "aa4e1fa1",
   "metadata": {
    "scrolled": true
   },
   "outputs": [
    {
     "data": {
      "text/plain": [
       "0       formerly smoked\n",
       "1          never smoked\n",
       "2          never smoked\n",
       "3                smokes\n",
       "4          never smoked\n",
       "             ...       \n",
       "5105       never smoked\n",
       "5106       never smoked\n",
       "5107       never smoked\n",
       "5108    formerly smoked\n",
       "5109            Unknown\n",
       "Name: smoking_status, Length: 5110, dtype: object"
      ]
     },
     "execution_count": 42,
     "metadata": {},
     "output_type": "execute_result"
    }
   ],
   "source": [
    "data.smoking_status"
   ]
  },
  {
   "cell_type": "code",
   "execution_count": 43,
   "id": "80f27e71",
   "metadata": {},
   "outputs": [
    {
     "data": {
      "text/plain": [
       "True"
      ]
     },
     "execution_count": 43,
     "metadata": {},
     "output_type": "execute_result"
    }
   ],
   "source": [
    "data.smoking_status[1] == 'never smoked'"
   ]
  },
  {
   "cell_type": "code",
   "execution_count": 44,
   "id": "e7981958",
   "metadata": {},
   "outputs": [
    {
     "name": "stdout",
     "output_type": "stream",
     "text": [
      "0       2\n",
      "1       0\n",
      "2       0\n",
      "3       3\n",
      "4       0\n",
      "       ..\n",
      "5105    0\n",
      "5106    0\n",
      "5107    0\n",
      "5108    2\n",
      "5109    1\n",
      "Name: smoking_status, Length: 5110, dtype: object\n"
     ]
    },
    {
     "name": "stderr",
     "output_type": "stream",
     "text": [
      "<ipython-input-44-ba4d67cfac70>:7: SettingWithCopyWarning: \n",
      "A value is trying to be set on a copy of a slice from a DataFrame\n",
      "\n",
      "See the caveats in the documentation: https://pandas.pydata.org/pandas-docs/stable/user_guide/indexing.html#returning-a-view-versus-a-copy\n",
      "  data.smoking_status[i] = 2\n",
      "<ipython-input-44-ba4d67cfac70>:3: SettingWithCopyWarning: \n",
      "A value is trying to be set on a copy of a slice from a DataFrame\n",
      "\n",
      "See the caveats in the documentation: https://pandas.pydata.org/pandas-docs/stable/user_guide/indexing.html#returning-a-view-versus-a-copy\n",
      "  data.smoking_status[i] = 0\n",
      "<ipython-input-44-ba4d67cfac70>:9: SettingWithCopyWarning: \n",
      "A value is trying to be set on a copy of a slice from a DataFrame\n",
      "\n",
      "See the caveats in the documentation: https://pandas.pydata.org/pandas-docs/stable/user_guide/indexing.html#returning-a-view-versus-a-copy\n",
      "  data.smoking_status[i] = 3\n",
      "<ipython-input-44-ba4d67cfac70>:5: SettingWithCopyWarning: \n",
      "A value is trying to be set on a copy of a slice from a DataFrame\n",
      "\n",
      "See the caveats in the documentation: https://pandas.pydata.org/pandas-docs/stable/user_guide/indexing.html#returning-a-view-versus-a-copy\n",
      "  data.smoking_status[i] = 1\n"
     ]
    }
   ],
   "source": [
    "for i in range(len(data.smoking_status)):\n",
    "    if data.smoking_status[i] == 'never smoked':\n",
    "        data.smoking_status[i] = 0\n",
    "    elif data.smoking_status[i] == 'Unknown':\n",
    "        data.smoking_status[i] = 1\n",
    "    elif data.smoking_status[i] == 'formerly smoked':\n",
    "        data.smoking_status[i] = 2\n",
    "    elif data.smoking_status[i] == 'smokes':\n",
    "        data.smoking_status[i] = 3\n",
    "\n",
    "        \n",
    "print(data.smoking_status)"
   ]
  },
  {
   "cell_type": "code",
   "execution_count": 45,
   "id": "7c10b134",
   "metadata": {
    "scrolled": true
   },
   "outputs": [
    {
     "data": {
      "text/plain": [
       "0    1892\n",
       "1    1544\n",
       "2     885\n",
       "3     789\n",
       "Name: smoking_status, dtype: int64"
      ]
     },
     "execution_count": 45,
     "metadata": {},
     "output_type": "execute_result"
    }
   ],
   "source": [
    "data.smoking_status.value_counts()"
   ]
  },
  {
   "cell_type": "code",
   "execution_count": 46,
   "id": "f054e5d5",
   "metadata": {},
   "outputs": [
    {
     "data": {
      "text/html": [
       "<div>\n",
       "<style scoped>\n",
       "    .dataframe tbody tr th:only-of-type {\n",
       "        vertical-align: middle;\n",
       "    }\n",
       "\n",
       "    .dataframe tbody tr th {\n",
       "        vertical-align: top;\n",
       "    }\n",
       "\n",
       "    .dataframe thead th {\n",
       "        text-align: right;\n",
       "    }\n",
       "</style>\n",
       "<table border=\"1\" class=\"dataframe\">\n",
       "  <thead>\n",
       "    <tr style=\"text-align: right;\">\n",
       "      <th></th>\n",
       "      <th>gender</th>\n",
       "      <th>age</th>\n",
       "      <th>hypertension</th>\n",
       "      <th>heart_disease</th>\n",
       "      <th>ever_married</th>\n",
       "      <th>work_type</th>\n",
       "      <th>Residence_type</th>\n",
       "      <th>avg_glucose_level</th>\n",
       "      <th>bmi</th>\n",
       "      <th>smoking_status</th>\n",
       "      <th>stroke</th>\n",
       "      <th>age_mean</th>\n",
       "    </tr>\n",
       "  </thead>\n",
       "  <tbody>\n",
       "    <tr>\n",
       "      <th>0</th>\n",
       "      <td>1</td>\n",
       "      <td>67</td>\n",
       "      <td>0</td>\n",
       "      <td>1</td>\n",
       "      <td>1</td>\n",
       "      <td>0</td>\n",
       "      <td>0</td>\n",
       "      <td>228.69</td>\n",
       "      <td>36.6</td>\n",
       "      <td>2</td>\n",
       "      <td>1</td>\n",
       "      <td>5</td>\n",
       "    </tr>\n",
       "    <tr>\n",
       "      <th>1</th>\n",
       "      <td>0</td>\n",
       "      <td>61</td>\n",
       "      <td>0</td>\n",
       "      <td>0</td>\n",
       "      <td>1</td>\n",
       "      <td>1</td>\n",
       "      <td>1</td>\n",
       "      <td>202.21</td>\n",
       "      <td>31.6</td>\n",
       "      <td>0</td>\n",
       "      <td>1</td>\n",
       "      <td>4</td>\n",
       "    </tr>\n",
       "    <tr>\n",
       "      <th>2</th>\n",
       "      <td>1</td>\n",
       "      <td>80</td>\n",
       "      <td>0</td>\n",
       "      <td>1</td>\n",
       "      <td>1</td>\n",
       "      <td>0</td>\n",
       "      <td>1</td>\n",
       "      <td>105.92</td>\n",
       "      <td>32.5</td>\n",
       "      <td>0</td>\n",
       "      <td>1</td>\n",
       "      <td>5</td>\n",
       "    </tr>\n",
       "    <tr>\n",
       "      <th>3</th>\n",
       "      <td>0</td>\n",
       "      <td>49</td>\n",
       "      <td>0</td>\n",
       "      <td>0</td>\n",
       "      <td>1</td>\n",
       "      <td>0</td>\n",
       "      <td>0</td>\n",
       "      <td>171.23</td>\n",
       "      <td>34.4</td>\n",
       "      <td>3</td>\n",
       "      <td>1</td>\n",
       "      <td>3</td>\n",
       "    </tr>\n",
       "    <tr>\n",
       "      <th>4</th>\n",
       "      <td>0</td>\n",
       "      <td>79</td>\n",
       "      <td>1</td>\n",
       "      <td>0</td>\n",
       "      <td>1</td>\n",
       "      <td>1</td>\n",
       "      <td>1</td>\n",
       "      <td>174.12</td>\n",
       "      <td>24.0</td>\n",
       "      <td>0</td>\n",
       "      <td>1</td>\n",
       "      <td>5</td>\n",
       "    </tr>\n",
       "    <tr>\n",
       "      <th>...</th>\n",
       "      <td>...</td>\n",
       "      <td>...</td>\n",
       "      <td>...</td>\n",
       "      <td>...</td>\n",
       "      <td>...</td>\n",
       "      <td>...</td>\n",
       "      <td>...</td>\n",
       "      <td>...</td>\n",
       "      <td>...</td>\n",
       "      <td>...</td>\n",
       "      <td>...</td>\n",
       "      <td>...</td>\n",
       "    </tr>\n",
       "    <tr>\n",
       "      <th>5105</th>\n",
       "      <td>0</td>\n",
       "      <td>80</td>\n",
       "      <td>1</td>\n",
       "      <td>0</td>\n",
       "      <td>1</td>\n",
       "      <td>0</td>\n",
       "      <td>0</td>\n",
       "      <td>83.75</td>\n",
       "      <td>29.4</td>\n",
       "      <td>0</td>\n",
       "      <td>0</td>\n",
       "      <td>5</td>\n",
       "    </tr>\n",
       "    <tr>\n",
       "      <th>5106</th>\n",
       "      <td>0</td>\n",
       "      <td>81</td>\n",
       "      <td>0</td>\n",
       "      <td>0</td>\n",
       "      <td>1</td>\n",
       "      <td>1</td>\n",
       "      <td>0</td>\n",
       "      <td>125.20</td>\n",
       "      <td>40.0</td>\n",
       "      <td>0</td>\n",
       "      <td>0</td>\n",
       "      <td>5</td>\n",
       "    </tr>\n",
       "    <tr>\n",
       "      <th>5107</th>\n",
       "      <td>0</td>\n",
       "      <td>35</td>\n",
       "      <td>0</td>\n",
       "      <td>0</td>\n",
       "      <td>1</td>\n",
       "      <td>1</td>\n",
       "      <td>1</td>\n",
       "      <td>82.99</td>\n",
       "      <td>30.6</td>\n",
       "      <td>0</td>\n",
       "      <td>0</td>\n",
       "      <td>3</td>\n",
       "    </tr>\n",
       "    <tr>\n",
       "      <th>5108</th>\n",
       "      <td>1</td>\n",
       "      <td>51</td>\n",
       "      <td>0</td>\n",
       "      <td>0</td>\n",
       "      <td>1</td>\n",
       "      <td>0</td>\n",
       "      <td>1</td>\n",
       "      <td>166.29</td>\n",
       "      <td>25.6</td>\n",
       "      <td>2</td>\n",
       "      <td>0</td>\n",
       "      <td>4</td>\n",
       "    </tr>\n",
       "    <tr>\n",
       "      <th>5109</th>\n",
       "      <td>0</td>\n",
       "      <td>44</td>\n",
       "      <td>0</td>\n",
       "      <td>0</td>\n",
       "      <td>1</td>\n",
       "      <td>3</td>\n",
       "      <td>0</td>\n",
       "      <td>85.28</td>\n",
       "      <td>26.2</td>\n",
       "      <td>1</td>\n",
       "      <td>0</td>\n",
       "      <td>3</td>\n",
       "    </tr>\n",
       "  </tbody>\n",
       "</table>\n",
       "<p>5110 rows × 12 columns</p>\n",
       "</div>"
      ],
      "text/plain": [
       "      gender  age  hypertension  heart_disease ever_married work_type  \\\n",
       "0          1   67             0              1            1         0   \n",
       "1          0   61             0              0            1         1   \n",
       "2          1   80             0              1            1         0   \n",
       "3          0   49             0              0            1         0   \n",
       "4          0   79             1              0            1         1   \n",
       "...      ...  ...           ...            ...          ...       ...   \n",
       "5105       0   80             1              0            1         0   \n",
       "5106       0   81             0              0            1         1   \n",
       "5107       0   35             0              0            1         1   \n",
       "5108       1   51             0              0            1         0   \n",
       "5109       0   44             0              0            1         3   \n",
       "\n",
       "     Residence_type  avg_glucose_level   bmi smoking_status  stroke age_mean  \n",
       "0                 0             228.69  36.6              2       1        5  \n",
       "1                 1             202.21  31.6              0       1        4  \n",
       "2                 1             105.92  32.5              0       1        5  \n",
       "3                 0             171.23  34.4              3       1        3  \n",
       "4                 1             174.12  24.0              0       1        5  \n",
       "...             ...                ...   ...            ...     ...      ...  \n",
       "5105              0              83.75  29.4              0       0        5  \n",
       "5106              0             125.20  40.0              0       0        5  \n",
       "5107              1              82.99  30.6              0       0        3  \n",
       "5108              1             166.29  25.6              2       0        4  \n",
       "5109              0              85.28  26.2              1       0        3  \n",
       "\n",
       "[5110 rows x 12 columns]"
      ]
     },
     "execution_count": 46,
     "metadata": {},
     "output_type": "execute_result"
    }
   ],
   "source": [
    "data"
   ]
  },
  {
   "cell_type": "code",
   "execution_count": null,
   "id": "d891be11",
   "metadata": {},
   "outputs": [],
   "source": []
  },
  {
   "cell_type": "code",
   "execution_count": null,
   "id": "e427dd74",
   "metadata": {},
   "outputs": [],
   "source": []
  },
  {
   "cell_type": "code",
   "execution_count": null,
   "id": "d70a7225",
   "metadata": {},
   "outputs": [],
   "source": []
  },
  {
   "cell_type": "code",
   "execution_count": null,
   "id": "66e6f9e7",
   "metadata": {},
   "outputs": [],
   "source": []
  },
  {
   "cell_type": "code",
   "execution_count": null,
   "id": "c57fafed",
   "metadata": {},
   "outputs": [],
   "source": [
    "# # data_t[0:1] #取行、\n",
    "# data_t[['x1_Never_worked','x1_Private'\\\n",
    "#      ,'x1_Self-employed','x1_children']]\n",
    "# df = pd.DataFrame(data_t)\n",
    "# df.iloc[: ,1:2]\n",
    "\n",
    "# D = pd.concat([df.iloc[: ,1:2], df.iloc[: ,2:3]], axis=1)\n",
    "# D"
   ]
  },
  {
   "cell_type": "code",
   "execution_count": null,
   "id": "7597000f",
   "metadata": {
    "scrolled": true
   },
   "outputs": [],
   "source": [
    "# data.smoking_status.value_counts()"
   ]
  },
  {
   "cell_type": "code",
   "execution_count": null,
   "id": "c87c5bf8",
   "metadata": {},
   "outputs": [],
   "source": [
    "# # data.select_dtypes('object')  #ever_married[yes/no];['x0_Yes'  work_type[pri,self,child,gov,never]'x1_Never_worked', 'x1_Private', 'x1_Self-employed',\n",
    "#        #'x1_children',; \n",
    "# #residence_type'x2_Urban', smoking_status【never。unkno,former,smokes:x3_formerly smoked', 'x3_never smoked',\n",
    "#        #'x3_smokes'\n",
    "\n",
    "\n",
    "# data_t.columns\n"
   ]
  },
  {
   "cell_type": "code",
   "execution_count": null,
   "id": "a174e5fd",
   "metadata": {
    "scrolled": true
   },
   "outputs": [],
   "source": [
    "# data_n = data.drop(data.select_dtypes('object'), axis=1)\n",
    "\n",
    "# data = pd.concat([data_t, data_n], axis=1)\n",
    "# data.head(5)"
   ]
  },
  {
   "cell_type": "code",
   "execution_count": null,
   "id": "018fa78e",
   "metadata": {},
   "outputs": [],
   "source": []
  },
  {
   "cell_type": "code",
   "execution_count": null,
   "id": "ff93a33f",
   "metadata": {},
   "outputs": [],
   "source": [
    "# data.columns"
   ]
  },
  {
   "cell_type": "code",
   "execution_count": null,
   "id": "cb3eb094",
   "metadata": {},
   "outputs": [],
   "source": []
  },
  {
   "cell_type": "code",
   "execution_count": null,
   "id": "1ae2158f",
   "metadata": {},
   "outputs": [],
   "source": [
    "\n",
    "# from sklearn.compose import ColumnTransformer\n",
    "# from sklearn.impute import SimpleImputer\n",
    "# from sklearn.preprocessing import OneHotEncoder,StandardScaler,PowerTransformer\n",
    "# from sklearn.pipeline import Pipeline\n",
    "# from sklearn.model_selection import KFold,cross_val_score, RepeatedStratifiedKFold,StratifiedKFold\n",
    "# numerical = ['avg_glucose_level', 'bmi','age']\n",
    "# categorical = [ 'hypertension', 'heart_disease', 'ever_married','work_type', 'Residence_type', 'smoking_status']\n",
    "# LR=LogisticRegression()\n",
    "# LR.fit(X_train,y_train)\n",
    "\n",
    "# transformer = ColumnTransformer(transformers=[('imp',SimpleImputer(strategy='median'),numerical),('o',OneHotEncoder(),categorical)])\n",
    "# pipeline = Pipeline(steps=[('t', transformer),('p',PowerTransformer(method='yeo-johnson')),('m', LR)])    \n",
    "# scores = evaluate_model(X, y, pipeline)\n",
    "# # results.append(scores)\n",
    "# # print('>%s %.3f (%.3f)' % (names[i], np.mean(scores), np.std(scores)))\n",
    "# scores"
   ]
  },
  {
   "cell_type": "code",
   "execution_count": 70,
   "id": "0ac78d0d",
   "metadata": {},
   "outputs": [],
   "source": [
    "X = data.drop(columns=['stroke','age_mean'])\n",
    "\n",
    "y = data['stroke']"
   ]
  },
  {
   "cell_type": "code",
   "execution_count": 71,
   "id": "7d4ffa9e",
   "metadata": {
    "scrolled": true
   },
   "outputs": [
    {
     "data": {
      "text/plain": [
       "gender               0\n",
       "age                  0\n",
       "hypertension         0\n",
       "heart_disease        0\n",
       "ever_married         0\n",
       "work_type            0\n",
       "Residence_type       0\n",
       "avg_glucose_level    0\n",
       "bmi                  0\n",
       "smoking_status       0\n",
       "dtype: int64"
      ]
     },
     "execution_count": 71,
     "metadata": {},
     "output_type": "execute_result"
    }
   ],
   "source": [
    "X.isnull().sum()  #10"
   ]
  },
  {
   "cell_type": "code",
   "execution_count": 72,
   "id": "f69abdb3",
   "metadata": {},
   "outputs": [],
   "source": [
    "smote=SMOTE(random_state=42)\n",
    "x_smote,y_smote=smote.fit_resample(X,y)"
   ]
  },
  {
   "cell_type": "code",
   "execution_count": 73,
   "id": "6cbb9e48",
   "metadata": {},
   "outputs": [],
   "source": [
    "from sklearn.model_selection import train_test_split\n",
    "X_train,X_test, y_train,y_test=train_test_split(x_smote,y_smote,test_size=0.33,random_state=42)\n",
    "X_valid, X_test, y_valid, y_test = train_test_split(X_test, y_test, test_size=0.5, random_state=42)"
   ]
  },
  {
   "cell_type": "code",
   "execution_count": 74,
   "id": "d585a361",
   "metadata": {},
   "outputs": [],
   "source": [
    "# Rescaling Data\n",
    "sc= StandardScaler()\n",
    "X_train = sc.fit_transform(X_train)\n",
    "X_test = sc.transform(X_test)"
   ]
  },
  {
   "cell_type": "code",
   "execution_count": 75,
   "id": "7c30d46f",
   "metadata": {},
   "outputs": [
    {
     "name": "stdout",
     "output_type": "stream",
     "text": [
      "False\n",
      "False\n"
     ]
    }
   ],
   "source": [
    "for i in range(len(X_train)):\n",
    "    sample= X_train[i]\n",
    "    for j in range(len(sample)):\n",
    "        if np.isnan(sample[j]):\n",
    "            sample[j]=0 \n",
    "\n",
    "print(np.isnan(X_train).any())\n",
    "            \n",
    "for i in range(len(X_test)):\n",
    "    sample= X_test[i]\n",
    "    for j in range(len(sample)):\n",
    "        if np.isnan(sample[j]):\n",
    "            sample[j]=0 \n",
    "print(np.isnan(X_test).any())"
   ]
  },
  {
   "cell_type": "markdown",
   "id": "a58a6169",
   "metadata": {},
   "source": [
    "# 输出"
   ]
  },
  {
   "cell_type": "code",
   "execution_count": 76,
   "id": "da10c0d0",
   "metadata": {},
   "outputs": [
    {
     "name": "stdout",
     "output_type": "stream",
     "text": [
      "[[-0.40611641  1.96920111 -0.30959184 -0.24601464 -0.10220599 -0.13119628\n",
      "  -0.01950127  0.35660004  0.1113573   0.23359613]]\n"
     ]
    }
   ],
   "source": [
    "LR=LogisticRegression()\n",
    "LR.fit(X_train,y_train)\n",
    "\n",
    "n=LR.coef_#模型的重要特征\n",
    "\n",
    "print(n)\n",
    "\n",
    "y_pred=LR.predict(X_test)\n",
    "# print(y_pred)"
   ]
  },
  {
   "cell_type": "code",
   "execution_count": 77,
   "id": "89d0b343",
   "metadata": {
    "scrolled": true
   },
   "outputs": [
    {
     "data": {
      "text/plain": [
       "Index(['gender', 'age', 'hypertension', 'heart_disease', 'ever_married',\n",
       "       'work_type', 'Residence_type', 'avg_glucose_level', 'bmi',\n",
       "       'smoking_status'],\n",
       "      dtype='object')"
      ]
     },
     "execution_count": 77,
     "metadata": {},
     "output_type": "execute_result"
    }
   ],
   "source": [
    "# data.loc[0]\n",
    "X.columns\n"
   ]
  },
  {
   "cell_type": "code",
   "execution_count": 78,
   "id": "c1d25fb1",
   "metadata": {
    "scrolled": true
   },
   "outputs": [
    {
     "data": {
      "image/png": "[encoded data removed]",
      "text/plain": [
       "<Figure size 2100x1000 with 1 Axes>"
      ]
     },
     "metadata": {},
     "output_type": "display_data"
    }
   ],
   "source": [
    "import matplotlib.pyplot as plt\n",
    "#横坐标是类。纵是n\n",
    "\n",
    "# len(n[0])#16\n",
    "plt.figure(figsize=(21,10))\n",
    "# plt.subplot(121)\n",
    "plt.bar(X.columns,n[0])\n",
    "plt.title('import features')\n",
    "plt.show()\n"
   ]
  },
  {
   "cell_type": "markdown",
   "id": "78781b83",
   "metadata": {},
   "source": [
    "###  去掉乱七八糟的"
   ]
  },
  {
   "attachments": {
    "image.png": {
     "image/png": "[encoded data removed]"
    }
   },
   "cell_type": "markdown",
   "id": "ed6f12e7",
   "metadata": {},
   "source": [
    "![image.png](attachment:image.png)"
   ]
  },
  {
   "cell_type": "code",
   "execution_count": 57,
   "id": "29c21d80",
   "metadata": {
    "scrolled": true
   },
   "outputs": [
    {
     "data": {
      "image/png": "[encoded data removed]",
      "text/plain": [
       "<Figure size 2100x1000 with 1 Axes>"
      ]
     },
     "metadata": {},
     "output_type": "display_data"
    }
   ],
   "source": [
    "import matplotlib.pyplot as plt\n",
    "#横坐标是类。纵是n\n",
    "\n",
    "# len(n[0])#16\n",
    "plt.figure(figsize=(21,10))\n",
    "# plt.subplot(121)\n",
    "plt.bar(X.columns,n[0])\n",
    "plt.title('import features')\n",
    "plt.show()\n"
   ]
  },
  {
   "attachments": {
    "image.png": {
     "image/png": "[encoded data removed]"
    }
   },
   "cell_type": "markdown",
   "id": "ce225424",
   "metadata": {},
   "source": [
    "![image.png](attachment:image.png)"
   ]
  },
  {
   "cell_type": "code",
   "execution_count": 79,
   "id": "76023621",
   "metadata": {},
   "outputs": [
    {
     "name": "stdout",
     "output_type": "stream",
     "text": [
      "              precision    recall  f1-score   support\n",
      "\n",
      "           0       0.81      0.76      0.79       803\n",
      "           1       0.78      0.82      0.80       802\n",
      "\n",
      "    accuracy                           0.79      1605\n",
      "   macro avg       0.79      0.79      0.79      1605\n",
      "weighted avg       0.79      0.79      0.79      1605\n",
      "\n"
     ]
    }
   ],
   "source": [
    "class_report=classification_report(y_test,y_pred)\n",
    "print(class_report)"
   ]
  },
  {
   "cell_type": "code",
   "execution_count": 80,
   "id": "4276c778",
   "metadata": {},
   "outputs": [
    {
     "data": {
      "text/plain": [
       "0.7919173113293976"
      ]
     },
     "execution_count": 80,
     "metadata": {},
     "output_type": "execute_result"
    }
   ],
   "source": [
    "auc = roc_auc_score(y_test, y_pred)\n",
    "auc"
   ]
  },
  {
   "cell_type": "code",
   "execution_count": 81,
   "id": "24ca19c9",
   "metadata": {},
   "outputs": [
    {
     "data": {
      "text/plain": [
       "array([[614, 189],\n",
       "       [145, 657]])"
      ]
     },
     "execution_count": 81,
     "metadata": {},
     "output_type": "execute_result"
    }
   ],
   "source": [
    "cm = confusion_matrix(y_test, y_pred)\n",
    "cm"
   ]
  },
  {
   "cell_type": "code",
   "execution_count": 82,
   "id": "76f0fdb3",
   "metadata": {},
   "outputs": [],
   "source": [
    "predicted_probab_log = LR.predict_proba(X_test)\n",
    "predicted_probab_log = predicted_probab_log[:, 1]\n",
    "fpr, tpr, _ = roc_curve(y_test, predicted_probab_log)"
   ]
  },
  {
   "cell_type": "code",
   "execution_count": 83,
   "id": "5dc2b20b",
   "metadata": {
    "scrolled": true
   },
   "outputs": [
    {
     "data": {
      "image/png": "[encoded data removed]",
      "text/plain": [
       "<Figure size 640x480 with 1 Axes>"
      ]
     },
     "metadata": {},
     "output_type": "display_data"
    }
   ],
   "source": [
    "pyplot.plot(fpr, tpr, marker='.', label='Logistic Regression')\n",
    "pyplot.xlabel('False Positive Rate')\n",
    "pyplot.ylabel('True Positive Rate')\n",
    "pyplot.legend()\n",
    "pyplot.show()"
   ]
  }
 ],
 "metadata": {
  "kernelspec": {
   "display_name": "Python 3",
   "language": "python",
   "name": "python3"
  },
  "language_info": {
   "codemirror_mode": {
    "name": "ipython",
    "version": 3
   },
   "file_extension": ".py",
   "mimetype": "text/x-python",
   "name": "python",
   "nbconvert_exporter": "python",
   "pygments_lexer": "ipython3",
   "version": "3.8.11"
  }
 },
 "nbformat": 4,
 "nbformat_minor": 5
}
